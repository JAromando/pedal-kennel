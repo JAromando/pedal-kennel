{
 "cells": [
  {
   "cell_type": "markdown",
   "metadata": {
    "deletable": false
   },
   "source": [
    "Create, initialize, and print an integer variable that represents your age."
   ]
  },
  {
   "cell_type": "code",
   "execution_count": 37,
   "metadata": {
    "deletable": false
   },
   "outputs": [],
   "source": [
    "from pedal.plugins.grade_magic import load_ipython_extension\n",
    "from IPython import get_ipython\n",
    "load_ipython_extension(get_ipython())"
   ]
  },
  {
   "cell_type": "code",
   "execution_count": 38,
   "metadata": {
    "deletable": false,
    "scrolled": true
   },
   "outputs": [
    {
     "data": {
      "text/plain": [
       "6"
      ]
     },
     "execution_count": 38,
     "metadata": {},
     "output_type": "execute_result"
    }
   ],
   "source": [
    "def summate(a_list):\n",
    "    s = 0\n",
    "    for x in a_list:\n",
    "        s += x\n",
    "    return s\n",
    "summate([1,2,3])"
   ]
  },
  {
   "cell_type": "code",
   "execution_count": 39,
   "metadata": {
    "deletable": false,
    "editable": false,
    "scrolled": true
   },
   "outputs": [
    {
     "data": {
      "application/javascript": [
       "\n",
       "var cells = Jupyter.notebook.get_cells();\n",
       "if (cells.length > 0) {\n",
       "    var last = cells[cells.length-1];\n",
       "    $(last.element).animate({\"background-color\": \"#F6FAFF\"}, 1000);\n",
       "}\n",
       "var source_code = Jupyter.notebook.get_cells().map(function(cell) {\n",
       "    if (cell.cell_type == \"code\") {\n",
       "        var source = cell.code_mirror.getValue();\n",
       "        if (!source.startsWith(\"%\")) {\n",
       "            return source;\n",
       "        }\n",
       "    }\n",
       "}).join(\"\\n\");\n",
       "source_code = JSON.stringify(source_code);\n",
       "var instructor_code = \"student_code=\"+source_code+\"\\n\";\n",
       "//instructor_code += \"\\nimport ast\\nprint(ast.dump(ast.parse(student_code)))\\nprint('Great')\"\n",
       "instructor_code += \"from pedal.plugins.grade_magic import blockpy_grade\\n\";\n",
       "instructor_code += \"result=blockpy_grade(1, student_code);\\n\"\n",
       "instructor_code += \"print(result)\\n\"\n",
       "console.log(instructor_code);\n",
       "var kernel = IPython.notebook.kernel;\n",
       "if (kernel !== null) {\n",
       "    var t = kernel.execute(instructor_code, { 'iopub' : {'output' : function(x) {\n",
       "        if (x.msg_type == \"error\") {\n",
       "            console.error(x);\n",
       "            console.error(x.content);\n",
       "            element.text(x.content.ename+\": \"+x.content.evalue+\"\\n\"+x.content.traceback.join(\"\\n\"))\n",
       "        } else if (!x.content.data && x.content.text) {\n",
       "            console.log(x);\n",
       "            element.html(x.content.text.replace(/\\n/g, \"<br>\"));\n",
       "            //console.log(x);\n",
       "        } else {\n",
       "            console.log(x);\n",
       "        }\n",
       "        if (cells.length > 0) {\n",
       "            var last = cells[cells.length-1];\n",
       "            $(last.element).animate({\"background-color\": \"white\"}, 1000);\n",
       "        }\n",
       "    }}});\n",
       "}"
      ],
      "text/plain": [
       "<IPython.core.display.Javascript object>"
      ]
     },
     "metadata": {},
     "output_type": "display_data"
    }
   ],
   "source": [
    "%grade_blockpy 1"
   ]
  }
 ],
 "metadata": {
  "kernelspec": {
   "display_name": "Python [conda env:Anaconda3]",
   "language": "python",
   "name": "conda-env-Anaconda3-py"
  },
  "language_info": {
   "codemirror_mode": {
    "name": "ipython",
    "version": 3
   },
   "file_extension": ".py",
   "mimetype": "text/x-python",
   "name": "python",
   "nbconvert_exporter": "python",
   "pygments_lexer": "ipython3",
   "version": "3.5.4"
  },
  "student_mode": false
 },
 "nbformat": 4,
 "nbformat_minor": 2
}

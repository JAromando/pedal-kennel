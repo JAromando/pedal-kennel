{
 "cells": [
  {
   "cell_type": "code",
   "execution_count": 9,
   "metadata": {
    "deletable": false,
    "editable": false
   },
   "outputs": [
    {
     "name": "stderr",
     "output_type": "stream",
     "text": [
      "UsageError: Line magic function `%grade_logstart` not found.\n"
     ]
    }
   ],
   "source": [
    "%grade_logstart 403"
   ]
  },
  {
   "cell_type": "markdown",
   "metadata": {
    "deletable": false
   },
   "source": [
    "## Day 14 Classwork - Problem 4\n",
    "\n",
    "The cell below shows list of earthquake magnitudes. Write a Python program to find and print the number of earthquakes that are above a magnitude that the user specifies. Use a Python *input* operation to prompt the user for the specified magnitude. You can reuse much of the code that you wrote in the answer to Classwork 3.\n",
    "\n"
   ]
  },
  {
   "cell_type": "markdown",
   "metadata": {
    "deletable": false
   },
   "source": [
    "### Initializations"
   ]
  },
  {
   "cell_type": "code",
   "execution_count": 10,
   "metadata": {
    "deletable": false
   },
   "outputs": [],
   "source": [
    "# Put here the original state of variables from initializations, inputs, and data from imported functions\n",
    "\n",
    "magnitudes = [1.5, 1.9, 4.3, 2.1, 2.0, 3.6, 0.5, 2.5, 1.9, 4.0, 3.8, 0.7, 2.2, 5.1, 1.6]\n"
   ]
  },
  {
   "cell_type": "markdown",
   "metadata": {
    "deletable": false
   },
   "source": [
    "### Processing"
   ]
  },
  {
   "cell_type": "code",
   "execution_count": 11,
   "metadata": {
    "deletable": false
   },
   "outputs": [
    {
     "name": "stdout",
     "output_type": "stream",
     "text": [
      "fun:7\n"
     ]
    }
   ],
   "source": [
    "# Put here the computation that produces the desired result(s).\n",
    "mag = 0\n",
    "filt = float(input(\"fun:\"))\n",
    "for item in magnitudes:\n",
    "    if item > filt:\n",
    "        mag = mag + 1"
   ]
  },
  {
   "cell_type": "markdown",
   "metadata": {
    "deletable": false
   },
   "source": [
    "### Output"
   ]
  },
  {
   "cell_type": "code",
   "execution_count": 12,
   "metadata": {
    "deletable": false
   },
   "outputs": [
    {
     "name": "stdout",
     "output_type": "stream",
     "text": [
      "0\n"
     ]
    }
   ],
   "source": [
    "# Put here the code to print or plot the result(s).\n",
    "print(mag)"
   ]
  },
  {
   "cell_type": "markdown",
   "metadata": {
    "deletable": false
   },
   "source": [
    "### Feedback"
   ]
  },
  {
   "cell_type": "code",
   "execution_count": 13,
   "metadata": {
    "deletable": false,
    "editable": false
   },
   "outputs": [
    {
     "name": "stderr",
     "output_type": "stream",
     "text": [
      "UsageError: Line magic function `%grade_blockpy` not found.\n"
     ]
    }
   ],
   "source": [
    "%grade_blockpy 403\n",
    "%grade_logstop 403\n",
    "# New problem - need new feedback. Can reuse feedback from Problem 3"
   ]
  }
 ],
 "metadata": {
  "comet_tracking": true,
  "kernelspec": {
   "display_name": "Python [default]",
   "language": "python",
   "name": "python3"
  },
  "language_info": {
   "codemirror_mode": {
    "name": "ipython",
    "version": 3
   },
   "file_extension": ".py",
   "mimetype": "text/x-python",
   "name": "python",
   "nbconvert_exporter": "python",
   "pygments_lexer": "ipython3",
   "version": "3.5.4"
  },
  "student_mode": false
 },
 "nbformat": 4,
 "nbformat_minor": 2
}
